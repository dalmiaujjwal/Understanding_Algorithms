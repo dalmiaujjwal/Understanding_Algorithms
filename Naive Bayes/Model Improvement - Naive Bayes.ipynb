{
 "cells": [
  {
   "cell_type": "code",
   "execution_count": 1,
   "metadata": {},
   "outputs": [],
   "source": [
    "import pandas as pd\n",
    "import numpy as np\n",
    "from sklearn.preprocessing import LabelBinarizer, normalize\n",
    "from sklearn.feature_extraction.text import CountVectorizer, TfidfVectorizer\n",
    "from sklearn.naive_bayes import MultinomialNB\n",
    "from sklearn.model_selection import train_test_split\n",
    "import scipy.sparse as sp"
   ]
  },
  {
   "cell_type": "markdown",
   "metadata": {},
   "source": [
    "# Data Preparation"
   ]
  },
  {
   "cell_type": "code",
   "execution_count": 2,
   "metadata": {},
   "outputs": [
    {
     "data": {
      "text/html": [
       "<div>\n",
       "<style scoped>\n",
       "    .dataframe tbody tr th:only-of-type {\n",
       "        vertical-align: middle;\n",
       "    }\n",
       "\n",
       "    .dataframe tbody tr th {\n",
       "        vertical-align: top;\n",
       "    }\n",
       "\n",
       "    .dataframe thead th {\n",
       "        text-align: right;\n",
       "    }\n",
       "</style>\n",
       "<table border=\"1\" class=\"dataframe\">\n",
       "  <thead>\n",
       "    <tr style=\"text-align: right;\">\n",
       "      <th></th>\n",
       "      <th>review</th>\n",
       "      <th>sentiment</th>\n",
       "    </tr>\n",
       "  </thead>\n",
       "  <tbody>\n",
       "    <tr>\n",
       "      <th>0</th>\n",
       "      <td>One of the other reviewers has mentioned that ...</td>\n",
       "      <td>positive</td>\n",
       "    </tr>\n",
       "    <tr>\n",
       "      <th>1</th>\n",
       "      <td>A wonderful little production. &lt;br /&gt;&lt;br /&gt;The...</td>\n",
       "      <td>positive</td>\n",
       "    </tr>\n",
       "  </tbody>\n",
       "</table>\n",
       "</div>"
      ],
      "text/plain": [
       "                                              review sentiment\n",
       "0  One of the other reviewers has mentioned that ...  positive\n",
       "1  A wonderful little production. <br /><br />The...  positive"
      ]
     },
     "execution_count": 2,
     "metadata": {},
     "output_type": "execute_result"
    }
   ],
   "source": [
    "IMDB_review_df = pd.read_csv(\"IMDB Dataset_V1.csv\")\n",
    "IMDB_review_df.head(2)"
   ]
  },
  {
   "cell_type": "code",
   "execution_count": 3,
   "metadata": {},
   "outputs": [],
   "source": [
    "def text_clean(text_series):\n",
    "    text_series = text_series.str.lower()\n",
    "    clean_2 = text_series.str.replace(r\"<.*>|[^a-zA-Z\\s]\",\"\")\n",
    "    clean_3 = clean_2.str.replace(r\"\\s+\", \" \")\n",
    "    return clean_3"
   ]
  },
  {
   "cell_type": "code",
   "execution_count": 4,
   "metadata": {},
   "outputs": [],
   "source": [
    "IMDB_review_df[\"Text_Clean\"] = text_clean(IMDB_review_df[\"review\"])"
   ]
  },
  {
   "cell_type": "code",
   "execution_count": 5,
   "metadata": {},
   "outputs": [],
   "source": [
    "train_x, test_x, train_y, test_y = train_test_split(IMDB_review_df[\"Text_Clean\"], \n",
    "                                                    IMDB_review_df[\"sentiment\"], \n",
    "                                                    test_size = 0.3, \n",
    "                                                    random_state = 8)"
   ]
  },
  {
   "cell_type": "markdown",
   "metadata": {},
   "source": [
    "# SkLearn Implementation - BOW"
   ]
  },
  {
   "cell_type": "code",
   "execution_count": 6,
   "metadata": {},
   "outputs": [],
   "source": [
    "BOW_Model = CountVectorizer(stop_words=\"english\")\n",
    "BOW_train_arr = BOW_Model.fit_transform(train_x)\n",
    "BOW_test_arr = BOW_Model.transform(test_x)"
   ]
  },
  {
   "cell_type": "code",
   "execution_count": 7,
   "metadata": {},
   "outputs": [],
   "source": [
    "Alpha = 1\n",
    "MNB_Model = MultinomialNB(alpha=Alpha)\n",
    "MNB_Model.fit(BOW_train_arr, train_y)\n",
    "prediction = MNB_Model.predict(BOW_test_arr)"
   ]
  },
  {
   "cell_type": "code",
   "execution_count": 8,
   "metadata": {},
   "outputs": [
    {
     "data": {
      "text/html": [
       "<div>\n",
       "<style scoped>\n",
       "    .dataframe tbody tr th:only-of-type {\n",
       "        vertical-align: middle;\n",
       "    }\n",
       "\n",
       "    .dataframe tbody tr th {\n",
       "        vertical-align: top;\n",
       "    }\n",
       "\n",
       "    .dataframe thead th {\n",
       "        text-align: right;\n",
       "    }\n",
       "</style>\n",
       "<table border=\"1\" class=\"dataframe\">\n",
       "  <thead>\n",
       "    <tr style=\"text-align: right;\">\n",
       "      <th>sentiment</th>\n",
       "      <th>negative</th>\n",
       "      <th>positive</th>\n",
       "    </tr>\n",
       "    <tr>\n",
       "      <th>row_0</th>\n",
       "      <th></th>\n",
       "      <th></th>\n",
       "    </tr>\n",
       "  </thead>\n",
       "  <tbody>\n",
       "    <tr>\n",
       "      <th>negative</th>\n",
       "      <td>365</td>\n",
       "      <td>105</td>\n",
       "    </tr>\n",
       "    <tr>\n",
       "      <th>positive</th>\n",
       "      <td>82</td>\n",
       "      <td>348</td>\n",
       "    </tr>\n",
       "  </tbody>\n",
       "</table>\n",
       "</div>"
      ],
      "text/plain": [
       "sentiment  negative  positive\n",
       "row_0                        \n",
       "negative        365       105\n",
       "positive         82       348"
      ]
     },
     "execution_count": 8,
     "metadata": {},
     "output_type": "execute_result"
    }
   ],
   "source": [
    "pd.crosstab(prediction, test_y)"
   ]
  },
  {
   "cell_type": "markdown",
   "metadata": {},
   "source": [
    "# SkLearn Implementation - Tf Idf"
   ]
  },
  {
   "cell_type": "code",
   "execution_count": 9,
   "metadata": {},
   "outputs": [],
   "source": [
    "Tf_Idf_Model = TfidfVectorizer(stop_words=\"english\")\n",
    "Tf_Idf_train_arr = Tf_Idf_Model.fit_transform(train_x)\n",
    "Tf_Idf_test_arr = Tf_Idf_Model.transform(test_x)"
   ]
  },
  {
   "cell_type": "code",
   "execution_count": 10,
   "metadata": {},
   "outputs": [],
   "source": [
    "Alpha = 1\n",
    "MNB_Model = MultinomialNB(alpha=Alpha)\n",
    "MNB_Model.fit(Tf_Idf_train_arr, train_y)\n",
    "predict_arr = MNB_Model.predict(Tf_Idf_test_arr)"
   ]
  },
  {
   "cell_type": "code",
   "execution_count": 11,
   "metadata": {},
   "outputs": [
    {
     "data": {
      "text/html": [
       "<div>\n",
       "<style scoped>\n",
       "    .dataframe tbody tr th:only-of-type {\n",
       "        vertical-align: middle;\n",
       "    }\n",
       "\n",
       "    .dataframe tbody tr th {\n",
       "        vertical-align: top;\n",
       "    }\n",
       "\n",
       "    .dataframe thead th {\n",
       "        text-align: right;\n",
       "    }\n",
       "</style>\n",
       "<table border=\"1\" class=\"dataframe\">\n",
       "  <thead>\n",
       "    <tr style=\"text-align: right;\">\n",
       "      <th>sentiment</th>\n",
       "      <th>negative</th>\n",
       "      <th>positive</th>\n",
       "    </tr>\n",
       "    <tr>\n",
       "      <th>row_0</th>\n",
       "      <th></th>\n",
       "      <th></th>\n",
       "    </tr>\n",
       "  </thead>\n",
       "  <tbody>\n",
       "    <tr>\n",
       "      <th>negative</th>\n",
       "      <td>374</td>\n",
       "      <td>115</td>\n",
       "    </tr>\n",
       "    <tr>\n",
       "      <th>positive</th>\n",
       "      <td>73</td>\n",
       "      <td>338</td>\n",
       "    </tr>\n",
       "  </tbody>\n",
       "</table>\n",
       "</div>"
      ],
      "text/plain": [
       "sentiment  negative  positive\n",
       "row_0                        \n",
       "negative        374       115\n",
       "positive         73       338"
      ]
     },
     "execution_count": 11,
     "metadata": {},
     "output_type": "execute_result"
    }
   ],
   "source": [
    "pd.crosstab(predict_arr, test_y)"
   ]
  },
  {
   "cell_type": "markdown",
   "metadata": {},
   "source": [
    "# Scratch Implementation - Tf Idf"
   ]
  },
  {
   "cell_type": "code",
   "execution_count": 12,
   "metadata": {},
   "outputs": [],
   "source": [
    "n_samples,n_features = BOW_train_arr.shape\n",
    "doc_count_arr = np.bincount(BOW_train_arr.indices)\n",
    "doc_count_arr = doc_count_arr +1\n",
    "n_samples = n_samples+1\n",
    "idf_arr = np.log(n_samples/doc_count_arr)+1"
   ]
  },
  {
   "cell_type": "code",
   "execution_count": 15,
   "metadata": {},
   "outputs": [],
   "source": [
    "tf_idf_train = np.multiply(BOW_train_arr.toarray(),idf_arr)\n",
    "tf_idf_train = normalize(tf_idf_train)"
   ]
  },
  {
   "cell_type": "code",
   "execution_count": 16,
   "metadata": {},
   "outputs": [],
   "source": [
    "tf_idf_test = np.multiply(BOW_test_arr.toarray(),idf_arr)\n",
    "tf_idf_test = normalize(tf_idf_test)"
   ]
  },
  {
   "cell_type": "markdown",
   "metadata": {},
   "source": [
    "# Improvement Tf Idf"
   ]
  },
  {
   "cell_type": "code",
   "execution_count": 23,
   "metadata": {},
   "outputs": [
    {
     "data": {
      "text/plain": [
       "(2100, 2)"
      ]
     },
     "execution_count": 23,
     "metadata": {},
     "output_type": "execute_result"
    }
   ],
   "source": [
    "lb_model = LabelBinarizer()\n",
    "Y_arr = lb_model.fit_transform(train_y)\n",
    "if Y_arr.shape[1] == 1:\n",
    "    Y_arr = np.concatenate([1-Y_arr,Y_arr],axis = 1)\n",
    "Y_arr.shape"
   ]
  },
  {
   "cell_type": "code",
   "execution_count": 29,
   "metadata": {},
   "outputs": [
    {
     "data": {
      "text/plain": [
       "(2100, 22087)"
      ]
     },
     "execution_count": 29,
     "metadata": {},
     "output_type": "execute_result"
    }
   ],
   "source": [
    "BOW_Doc_Count_arr = BOW_train_arr.copy()\n",
    "BOW_Doc_Count_arr[BOW_Doc_Count_arr>0] = 1\n",
    "BOW_Doc_Count_arr.shape"
   ]
  },
  {
   "cell_type": "code",
   "execution_count": 46,
   "metadata": {},
   "outputs": [],
   "source": [
    "Cat_Doc_Count = np.dot(Y_arr.transpose(), BOW_Doc_Count_arr.toarray())\n",
    "Cat_Total_Doc_Count = Y_arr.sum(axis=0)\n",
    "Cat_Total_Doc_Count = Cat_Total_Doc_Count.reshape(-1,1)"
   ]
  },
  {
   "cell_type": "code",
   "execution_count": 49,
   "metadata": {},
   "outputs": [],
   "source": [
    "idf_arr_train = np.log((Cat_Total_Doc_Count+1)/(Cat_Doc_Count+1))"
   ]
  },
  {
   "cell_type": "code",
   "execution_count": 61,
   "metadata": {},
   "outputs": [],
   "source": [
    "improved_idf_dict = {}\n",
    "for i in range(idf_arr_train.shape[0]):\n",
    "    improved_idf_dict[i] = np.delete(idf_arr_train,i,0).sum(axis = 0)/idf_arr_train[i]\n",
    "for i in range(idf_arr_train.shape[0]):\n",
    "    idf_arr_train[i] = improved_idf_dict[i]\n",
    "idf_arr_train_improved = np.dot(Y_arr,idf_arr_train)"
   ]
  },
  {
   "cell_type": "code",
   "execution_count": 67,
   "metadata": {},
   "outputs": [],
   "source": [
    "tf_idf_arr_train = np.multiply(BOW_train_arr.toarray(), idf_arr_train_improved)\n",
    "tf_idf_arr_train = normalize(tf_idf_arr_train)"
   ]
  },
  {
   "cell_type": "code",
   "execution_count": 70,
   "metadata": {},
   "outputs": [
    {
     "data": {
      "text/plain": [
       "(900, 2)"
      ]
     },
     "execution_count": 70,
     "metadata": {},
     "output_type": "execute_result"
    }
   ],
   "source": [
    "lb_model = LabelBinarizer()\n",
    "Y_arr_test = lb_model.fit_transform(test_y)\n",
    "if Y_arr_test.shape[1] == 1:\n",
    "    Y_arr_test = np.concatenate([1-Y_arr_test,Y_arr_test],axis = 1)\n",
    "Y_arr_test.shape"
   ]
  },
  {
   "cell_type": "code",
   "execution_count": 71,
   "metadata": {},
   "outputs": [],
   "source": [
    "idf_arr_test_improved = np.dot(Y_arr_test,idf_arr_train)"
   ]
  },
  {
   "cell_type": "code",
   "execution_count": 72,
   "metadata": {},
   "outputs": [],
   "source": [
    "tf_idf_arr_test = np.multiply(BOW_test_arr.toarray(), idf_arr_test_improved)\n",
    "tf_idf_arr_test = normalize(tf_idf_arr_test)"
   ]
  },
  {
   "cell_type": "code",
   "execution_count": 78,
   "metadata": {},
   "outputs": [],
   "source": [
    "lb_model = LabelBinarizer()\n",
    "Y_arr = lb_model.fit_transform(train_y)\n",
    "if Y_arr.shape[1] == 1:\n",
    "    Y_arr = np.concatenate([1-Y_arr,Y_arr],axis = 1)\n",
    "cat_count_arr = np.log(np.sum(Y_arr,axis = 0)/np.sum(Y_arr))\n",
    "classes = lb_model.classes_\n",
    "consolidated_train_df = np.dot(np.transpose(Y_arr),tf_idf_arr_train)\n",
    "prob_table_numer = consolidated_train_df + 1\n",
    "prob_table_denom = np.sum(prob_table_numer,axis=1)\n",
    "prob_table = np.log(prob_table_numer) - np.log(prob_table_denom.reshape(-1,1))"
   ]
  },
  {
   "cell_type": "code",
   "execution_count": 79,
   "metadata": {},
   "outputs": [
    {
     "data": {
      "text/html": [
       "<div>\n",
       "<style scoped>\n",
       "    .dataframe tbody tr th:only-of-type {\n",
       "        vertical-align: middle;\n",
       "    }\n",
       "\n",
       "    .dataframe tbody tr th {\n",
       "        vertical-align: top;\n",
       "    }\n",
       "\n",
       "    .dataframe thead th {\n",
       "        text-align: right;\n",
       "    }\n",
       "</style>\n",
       "<table border=\"1\" class=\"dataframe\">\n",
       "  <thead>\n",
       "    <tr style=\"text-align: right;\">\n",
       "      <th>sentiment</th>\n",
       "      <th>negative</th>\n",
       "      <th>positive</th>\n",
       "    </tr>\n",
       "    <tr>\n",
       "      <th>row_0</th>\n",
       "      <th></th>\n",
       "      <th></th>\n",
       "    </tr>\n",
       "  </thead>\n",
       "  <tbody>\n",
       "    <tr>\n",
       "      <th>negative</th>\n",
       "      <td>415</td>\n",
       "      <td>52</td>\n",
       "    </tr>\n",
       "    <tr>\n",
       "      <th>positive</th>\n",
       "      <td>32</td>\n",
       "      <td>401</td>\n",
       "    </tr>\n",
       "  </tbody>\n",
       "</table>\n",
       "</div>"
      ],
      "text/plain": [
       "sentiment  negative  positive\n",
       "row_0                        \n",
       "negative        415        52\n",
       "positive         32       401"
      ]
     },
     "execution_count": 79,
     "metadata": {},
     "output_type": "execute_result"
    }
   ],
   "source": [
    "predict_arr = classes[np.argmax(np.dot(tf_idf_arr_test,np.transpose(prob_table))+cat_count_arr,axis=1)]\n",
    "pd.crosstab(predict_arr, test_y)"
   ]
  }
 ],
 "metadata": {
  "kernelspec": {
   "display_name": "Python 3",
   "language": "python",
   "name": "python3"
  },
  "language_info": {
   "codemirror_mode": {
    "name": "ipython",
    "version": 3
   },
   "file_extension": ".py",
   "mimetype": "text/x-python",
   "name": "python",
   "nbconvert_exporter": "python",
   "pygments_lexer": "ipython3",
   "version": "3.7.1"
  }
 },
 "nbformat": 4,
 "nbformat_minor": 4
}
