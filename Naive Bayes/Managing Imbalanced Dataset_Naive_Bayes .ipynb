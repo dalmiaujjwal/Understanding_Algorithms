{
 "cells": [
  {
   "cell_type": "markdown",
   "metadata": {},
   "source": [
    "# Naive Bayes Classifier - Implementation from scratch \n",
    "This notebook is an attempt to understand the mechanics of Naive Bayes Algorithm.\n",
    "It contains 4 section:\n",
    "- **Data Preparation** - Importing libraries and splitting the data in train test sets\n",
    "- **Detailed implementation** of Naive Bayes - Step by step explanation but no efficient\n",
    "- **Efficient implementation** of Naive Bayes - Focus on code efficiency\n",
    "- **Sklearn implementation** - Comparing results with previous implementations. The comparision is done by only looking at the **confusion metrics**"
   ]
  },
  {
   "cell_type": "markdown",
   "metadata": {},
   "source": [
    "# Importing Libraries & Data Preparation"
   ]
  },
  {
   "cell_type": "markdown",
   "metadata": {},
   "source": [
    "### Importing required libraries"
   ]
  },
  {
   "cell_type": "code",
   "execution_count": 1,
   "metadata": {},
   "outputs": [],
   "source": [
    "%matplotlib inline\n",
    "import pandas as pd\n",
    "import numpy as np\n",
    "from sklearn.feature_extraction.text import CountVectorizer\n",
    "from sklearn.model_selection import train_test_split\n",
    "from sklearn.naive_bayes import MultinomialNB\n",
    "from sklearn.preprocessing import LabelBinarizer\n",
    "import re\n",
    "from matplotlib import pyplot as plt"
   ]
  },
  {
   "cell_type": "markdown",
   "metadata": {},
   "source": [
    "### Importing the dataset\n",
    "- This dataset contains 3000 movie reviews from IMDB website. The response variable captures if the review is positive or negative.\n",
    "- The sample records of the dataset, and the category distribution is shown below."
   ]
  },
  {
   "cell_type": "code",
   "execution_count": 2,
   "metadata": {},
   "outputs": [
    {
     "data": {
      "text/html": [
       "<div>\n",
       "<style scoped>\n",
       "    .dataframe tbody tr th:only-of-type {\n",
       "        vertical-align: middle;\n",
       "    }\n",
       "\n",
       "    .dataframe tbody tr th {\n",
       "        vertical-align: top;\n",
       "    }\n",
       "\n",
       "    .dataframe thead th {\n",
       "        text-align: right;\n",
       "    }\n",
       "</style>\n",
       "<table border=\"1\" class=\"dataframe\">\n",
       "  <thead>\n",
       "    <tr style=\"text-align: right;\">\n",
       "      <th></th>\n",
       "      <th>review</th>\n",
       "      <th>sentiment</th>\n",
       "    </tr>\n",
       "  </thead>\n",
       "  <tbody>\n",
       "    <tr>\n",
       "      <th>0</th>\n",
       "      <td>One of the other reviewers has mentioned that ...</td>\n",
       "      <td>positive</td>\n",
       "    </tr>\n",
       "    <tr>\n",
       "      <th>1</th>\n",
       "      <td>A wonderful little production. &lt;br /&gt;&lt;br /&gt;The...</td>\n",
       "      <td>positive</td>\n",
       "    </tr>\n",
       "  </tbody>\n",
       "</table>\n",
       "</div>"
      ],
      "text/plain": [
       "                                              review sentiment\n",
       "0  One of the other reviewers has mentioned that ...  positive\n",
       "1  A wonderful little production. <br /><br />The...  positive"
      ]
     },
     "execution_count": 2,
     "metadata": {},
     "output_type": "execute_result"
    }
   ],
   "source": [
    "inp_dataset = pd.read_csv(\"IMDB Imbalance.csv\")\n",
    "inp_dataset.head(2)"
   ]
  },
  {
   "cell_type": "code",
   "execution_count": 3,
   "metadata": {},
   "outputs": [
    {
     "data": {
      "image/png": "[encoded data removed]",
      "text/plain": [
       "<Figure size 432x288 with 1 Axes>"
      ]
     },
     "metadata": {
      "needs_background": "light"
     },
     "output_type": "display_data"
    }
   ],
   "source": [
    "Cat_Count_df = inp_dataset.sentiment.value_counts().reset_index() \n",
    "Cat_Count_df[\"Percentage\"] = Cat_Count_df[\"sentiment\"]/Cat_Count_df[\"sentiment\"].sum()*100\n",
    "plt.bar(Cat_Count_df[\"index\"], Cat_Count_df[\"sentiment\"])\n",
    "plt.xticks(Cat_Count_df[\"index\"])\n",
    "plt.xlabel(\"Sentiment\")\n",
    "plt.ylabel(\"Count\")\n",
    "plt.title(\"Distribution - Movie Sentiment\")\n",
    "for ind,row in Cat_Count_df.iterrows():\n",
    "    plt.annotate(text=str(round(row[\"Percentage\"],1))+\"%\",xy = (row[\"index\"],row[\"sentiment\"]))\n",
    "\n",
    "plt.show()"
   ]
  },
  {
   "cell_type": "markdown",
   "metadata": {},
   "source": [
    "### Cleaning the articles to remove the unwanted characters\n",
    "- In this implementation, we are performing only basic data cleaning steps like removing numbers, punctuations and special characters and tags from text.\n",
    "- This is done using regular expressions in the function defined as **text_clean**.\n",
    "- Finally, we are splitting the data in to train and test set using *sklearn's function* **train_test_split**. The code is set to have 70% data in the training set."
   ]
  },
  {
   "cell_type": "code",
   "execution_count": 33,
   "metadata": {},
   "outputs": [],
   "source": [
    "def text_clean(text_series):\n",
    "    text_series = text_series.str.lower()\n",
    "    clean_2 = text_series.str.replace(r\"<.*?>|[^a-zA-Z\\s]\",\" \")\n",
    "    clean_3 = clean_2.str.replace(r\"\\s[a-zA-Z]\\s\",\" \")\n",
    "    clean_4 = clean_3.str.replace(r\"\\s+\", \" \")\n",
    "    return clean_4"
   ]
  },
  {
   "cell_type": "code",
   "execution_count": 34,
   "metadata": {},
   "outputs": [],
   "source": [
    "inp_dataset[\"Text_Clean\"] = text_clean(inp_dataset[\"review\"])"
   ]
  },
  {
   "cell_type": "code",
   "execution_count": 39,
   "metadata": {},
   "outputs": [],
   "source": [
    "train_x, test_x, train_y, test_y = train_test_split(inp_dataset[\"Text_Clean\"], \n",
    "                                                    inp_dataset[\"sentiment\"], \n",
    "                                                    test_size = 0.3, \n",
    "                                                    random_state = 8)"
   ]
  },
  {
   "cell_type": "markdown",
   "metadata": {},
   "source": [
    "# BOW"
   ]
  },
  {
   "cell_type": "code",
   "execution_count": 40,
   "metadata": {},
   "outputs": [],
   "source": [
    "Cnt_Vec_Model = CountVectorizer(stop_words=\"english\")\n",
    "train_x_array = Cnt_Vec_Model.fit_transform(train_x)\n",
    "test_x_array = Cnt_Vec_Model.transform(test_x)\n",
    "train_x_array = train_x_array.toarray()\n",
    "test_x_array = test_x_array.toarray()"
   ]
  },
  {
   "cell_type": "markdown",
   "metadata": {},
   "source": [
    "# Y Label Binarizer"
   ]
  },
  {
   "cell_type": "code",
   "execution_count": 46,
   "metadata": {},
   "outputs": [],
   "source": [
    "Lbl_Bin_Model = LabelBinarizer()\n",
    "train_y_array = Lbl_Bin_Model.fit_transform(train_y)\n",
    "y_classes = Lbl_Bin_Model.classes_\n",
    "if train_y_array.shape[1] == 1:\n",
    "    train_y_array = np.concatenate([1-train_y_array,train_y_array], axis = 1)\n",
    "cat_sum_array = train_y_array.sum(axis = 0)\n",
    "cat_sum_array = cat_sum_array/cat_sum_array.sum()\n",
    "cat_sum_array = np.log(cat_sum_array)"
   ]
  },
  {
   "cell_type": "markdown",
   "metadata": {},
   "source": [
    "# Creating Train Array"
   ]
  },
  {
   "cell_type": "code",
   "execution_count": 356,
   "metadata": {},
   "outputs": [],
   "source": [
    "train_array = np.dot(train_y_array.transpose(),train_x_array)\n",
    "numerator_arrary = train_array + 1\n",
    "denominator_array = numerator_arrary.sum(axis = 1)\n",
    "probability_array = numerator_arrary/denominator_array.reshape(-1,1)\n",
    "probability_array = np.log(probability_array)"
   ]
  },
  {
   "cell_type": "markdown",
   "metadata": {},
   "source": [
    "# Prediction"
   ]
  },
  {
   "cell_type": "code",
   "execution_count": 80,
   "metadata": {},
   "outputs": [],
   "source": [
    "Test_Prob_arr = np.dot(test_x_array,probability_array.transpose()) + cat_sum_array\n",
    "prediction = y_classes[np.argmax(Test_Prob_arr,axis=1)]"
   ]
  },
  {
   "cell_type": "code",
   "execution_count": 81,
   "metadata": {
    "scrolled": true
   },
   "outputs": [
    {
     "data": {
      "text/html": [
       "<div>\n",
       "<style scoped>\n",
       "    .dataframe tbody tr th:only-of-type {\n",
       "        vertical-align: middle;\n",
       "    }\n",
       "\n",
       "    .dataframe tbody tr th {\n",
       "        vertical-align: top;\n",
       "    }\n",
       "\n",
       "    .dataframe thead th {\n",
       "        text-align: right;\n",
       "    }\n",
       "</style>\n",
       "<table border=\"1\" class=\"dataframe\">\n",
       "  <thead>\n",
       "    <tr style=\"text-align: right;\">\n",
       "      <th>sentiment</th>\n",
       "      <th>negative</th>\n",
       "      <th>positive</th>\n",
       "    </tr>\n",
       "    <tr>\n",
       "      <th>row_0</th>\n",
       "      <th></th>\n",
       "      <th></th>\n",
       "    </tr>\n",
       "  </thead>\n",
       "  <tbody>\n",
       "    <tr>\n",
       "      <th>negative</th>\n",
       "      <td>1</td>\n",
       "      <td>0</td>\n",
       "    </tr>\n",
       "    <tr>\n",
       "      <th>positive</th>\n",
       "      <td>58</td>\n",
       "      <td>451</td>\n",
       "    </tr>\n",
       "  </tbody>\n",
       "</table>\n",
       "</div>"
      ],
      "text/plain": [
       "sentiment  negative  positive\n",
       "row_0                        \n",
       "negative          1         0\n",
       "positive         58       451"
      ]
     },
     "execution_count": 81,
     "metadata": {},
     "output_type": "execute_result"
    }
   ],
   "source": [
    "pd.crosstab(prediction, test_y)"
   ]
  },
  {
   "cell_type": "markdown",
   "metadata": {},
   "source": [
    "# Improvement"
   ]
  },
  {
   "cell_type": "code",
   "execution_count": 376,
   "metadata": {},
   "outputs": [],
   "source": [
    "new_probability_array = probability_array.copy()\n",
    "new_probability_array[0] = np.where(probability_array[0]/probability_array[1] >= 1.2, probability_array[0], 0)\n",
    "new_probability_array[1] = np.where(probability_array[0]/probability_array[1] <= .8, probability_array[1], 0)"
   ]
  },
  {
   "cell_type": "markdown",
   "metadata": {},
   "source": [
    "# Prediction"
   ]
  },
  {
   "cell_type": "code",
   "execution_count": 377,
   "metadata": {},
   "outputs": [],
   "source": [
    "Test_Prob_arr = np.dot(test_x_array,new_probability_array.transpose()) + cat_sum_array\n",
    "prediction = y_classes[np.argmax(Test_Prob_arr,axis=1)]"
   ]
  },
  {
   "cell_type": "code",
   "execution_count": 378,
   "metadata": {},
   "outputs": [
    {
     "data": {
      "text/html": [
       "<div>\n",
       "<style scoped>\n",
       "    .dataframe tbody tr th:only-of-type {\n",
       "        vertical-align: middle;\n",
       "    }\n",
       "\n",
       "    .dataframe tbody tr th {\n",
       "        vertical-align: top;\n",
       "    }\n",
       "\n",
       "    .dataframe thead th {\n",
       "        text-align: right;\n",
       "    }\n",
       "</style>\n",
       "<table border=\"1\" class=\"dataframe\">\n",
       "  <thead>\n",
       "    <tr style=\"text-align: right;\">\n",
       "      <th>sentiment</th>\n",
       "      <th>negative</th>\n",
       "      <th>positive</th>\n",
       "    </tr>\n",
       "    <tr>\n",
       "      <th>row_0</th>\n",
       "      <th></th>\n",
       "      <th></th>\n",
       "    </tr>\n",
       "  </thead>\n",
       "  <tbody>\n",
       "    <tr>\n",
       "      <th>negative</th>\n",
       "      <td>9</td>\n",
       "      <td>9</td>\n",
       "    </tr>\n",
       "    <tr>\n",
       "      <th>positive</th>\n",
       "      <td>50</td>\n",
       "      <td>442</td>\n",
       "    </tr>\n",
       "  </tbody>\n",
       "</table>\n",
       "</div>"
      ],
      "text/plain": [
       "sentiment  negative  positive\n",
       "row_0                        \n",
       "negative          9         9\n",
       "positive         50       442"
      ]
     },
     "execution_count": 378,
     "metadata": {},
     "output_type": "execute_result"
    }
   ],
   "source": [
    "pd.crosstab(prediction,test_y)"
   ]
  }
 ],
 "metadata": {
  "kernelspec": {
   "display_name": "Python 3",
   "language": "python",
   "name": "python3"
  },
  "language_info": {
   "codemirror_mode": {
    "name": "ipython",
    "version": 3
   },
   "file_extension": ".py",
   "mimetype": "text/x-python",
   "name": "python",
   "nbconvert_exporter": "python",
   "pygments_lexer": "ipython3",
   "version": "3.7.1"
  }
 },
 "nbformat": 4,
 "nbformat_minor": 2
}
