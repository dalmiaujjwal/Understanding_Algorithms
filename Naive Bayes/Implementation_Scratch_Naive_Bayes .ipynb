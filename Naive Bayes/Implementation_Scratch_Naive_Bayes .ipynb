{
 "cells": [
  {
   "cell_type": "markdown",
   "metadata": {},
   "source": [
    "#### Naive Bayes Classifier - Implementation from scratch \n",
    "The notbook contains the code to implement the Naive Bayes Classifier from Scratch."
   ]
  },
  {
   "cell_type": "markdown",
   "metadata": {},
   "source": [
    "### Importing required libraries"
   ]
  },
  {
   "cell_type": "code",
   "execution_count": 12,
   "metadata": {},
   "outputs": [],
   "source": [
    "import pandas as pd\n",
    "import numpy as np\n",
    "import matplotlib.pyplot as plt\n",
    "%matplotlib inline\n",
    "from sklearn.feature_extraction.text import CountVectorizer\n",
    "from sklearn.model_selection import train_test_split\n",
    "import re"
   ]
  },
  {
   "cell_type": "markdown",
   "metadata": {},
   "source": [
    "### Importing the dataset"
   ]
  },
  {
   "cell_type": "code",
   "execution_count": 13,
   "metadata": {},
   "outputs": [
    {
     "data": {
      "text/html": [
       "<div>\n",
       "<style scoped>\n",
       "    .dataframe tbody tr th:only-of-type {\n",
       "        vertical-align: middle;\n",
       "    }\n",
       "\n",
       "    .dataframe tbody tr th {\n",
       "        vertical-align: top;\n",
       "    }\n",
       "\n",
       "    .dataframe thead th {\n",
       "        text-align: right;\n",
       "    }\n",
       "</style>\n",
       "<table border=\"1\" class=\"dataframe\">\n",
       "  <thead>\n",
       "    <tr style=\"text-align: right;\">\n",
       "      <th></th>\n",
       "      <th>ArticleId</th>\n",
       "      <th>Text</th>\n",
       "      <th>Category</th>\n",
       "    </tr>\n",
       "  </thead>\n",
       "  <tbody>\n",
       "    <tr>\n",
       "      <th>0</th>\n",
       "      <td>1833</td>\n",
       "      <td>worldcom ex-boss launches defence lawyers defe...</td>\n",
       "      <td>business</td>\n",
       "    </tr>\n",
       "    <tr>\n",
       "      <th>1</th>\n",
       "      <td>154</td>\n",
       "      <td>german business confidence slides german busin...</td>\n",
       "      <td>business</td>\n",
       "    </tr>\n",
       "  </tbody>\n",
       "</table>\n",
       "</div>"
      ],
      "text/plain": [
       "   ArticleId                                               Text  Category\n",
       "0       1833  worldcom ex-boss launches defence lawyers defe...  business\n",
       "1        154  german business confidence slides german busin...  business"
      ]
     },
     "execution_count": 13,
     "metadata": {},
     "output_type": "execute_result"
    }
   ],
   "source": [
    "inp_dataset = pd.read_csv(\"C:\\\\Ujjwal\\\\Analytics\\\\Datasets\\\\News Classification\\\\News_train.csv\")\n",
    "inp_dataset.head(2)"
   ]
  },
  {
   "cell_type": "markdown",
   "metadata": {},
   "source": [
    "### Cleaning the articles to remove the unwanted characters"
   ]
  },
  {
   "cell_type": "code",
   "execution_count": 14,
   "metadata": {},
   "outputs": [],
   "source": [
    "def text_clean(text_series):\n",
    "    clean_1 = text_series.str.replace(r\"[^a-zA-Z\\s]\",\"\")\n",
    "    clean_2 = clean_1.str.replace(r\"\\s+\", \" \")\n",
    "    return clean_2"
   ]
  },
  {
   "cell_type": "code",
   "execution_count": 15,
   "metadata": {},
   "outputs": [],
   "source": [
    "inp_dataset[\"Text_Clean\"] = text_clean(inp_dataset[\"Text\"])"
   ]
  },
  {
   "cell_type": "code",
   "execution_count": 53,
   "metadata": {},
   "outputs": [],
   "source": [
    "Y = inp_dataset['Category']\n",
    "train_x, test_x, train_y, test_y  = train_test_split(inp_dataset,Y,random_state = 8)\n",
    "train_x.reset_index(inplace = True, drop = True)"
   ]
  },
  {
   "cell_type": "markdown",
   "metadata": {},
   "source": [
    "### Creating Bag of Words"
   ]
  },
  {
   "cell_type": "code",
   "execution_count": 55,
   "metadata": {},
   "outputs": [],
   "source": [
    "Cnt_Vec = CountVectorizer()\n",
    "BOW = Cnt_Vec.fit_transform(train_x[\"Text_Clean\"]).toarray()\n",
    "BOW_Df = pd.DataFrame(BOW, columns=Cnt_Vec.get_feature_names())"
   ]
  },
  {
   "cell_type": "markdown",
   "metadata": {},
   "source": [
    "### Merging Dataframes & Creating training and test set"
   ]
  },
  {
   "cell_type": "code",
   "execution_count": 56,
   "metadata": {},
   "outputs": [],
   "source": [
    "inp_dataset_final = pd.merge(train_x, BOW_Df, left_index=True, right_index=True, how = \"left\")"
   ]
  },
  {
   "cell_type": "markdown",
   "metadata": {},
   "source": [
    "### Consolidating Bag of Words on the basis of News Categories"
   ]
  },
  {
   "cell_type": "code",
   "execution_count": 58,
   "metadata": {},
   "outputs": [],
   "source": [
    "cons_dataset = inp_dataset_final.groupby(\"Category\").agg({col:\"count\" if col == \"ArticleId\" else \"sum\" for col in inp_dataset_final.columns})\n",
    "cols = [col for col in cons_dataset.columns if col not in [\"Text\", \"Category\", \"Text_Clean\"]]\n",
    "cons_dataset_updated = cons_dataset[cols].copy()\n",
    "cons_dataset_updated.reset_index(inplace=True)\n",
    "cons_dataset_updated[\"sum\"] = cons_dataset_updated.iloc[:,2:].apply(lambda x: np.sum(x), axis=1)"
   ]
  },
  {
   "cell_type": "markdown",
   "metadata": {},
   "source": [
    "### Creating Probability Table"
   ]
  },
  {
   "cell_type": "code",
   "execution_count": 59,
   "metadata": {},
   "outputs": [],
   "source": [
    "alpha = 1\n",
    "prob_table = pd.DataFrame()\n",
    "prob_table[\"Category\"] = cons_dataset_updated[\"Category\"]\n",
    "prob_table[\"p_C\"] = cons_dataset_updated[\"ArticleId\"]/cons_dataset_updated.shape[0]\n",
    "cols = [col for col in cons_dataset_updated.columns if col not in [\"Category\", \"ArticleId\", \"sum\"]]\n",
    "no_of_cols = len(cols)\n",
    "for col in cols:\n",
    "    prob_table[col] = (cons_dataset_updated[col]+alpha)/(cons_dataset_updated[\"sum\"] + (alpha*no_of_cols))"
   ]
  },
  {
   "cell_type": "markdown",
   "metadata": {},
   "source": [
    "### Creating a word tokenizer"
   ]
  },
  {
   "cell_type": "code",
   "execution_count": 30,
   "metadata": {},
   "outputs": [],
   "source": [
    "def wt(text):\n",
    "    text = re.sub(r\"[^a-zA-Z\\s]\", \"\", text)\n",
    "    text = re.sub(r\"\\s+\",\" \", text)\n",
    "    list_of_words = text.split(\" \")\n",
    "    return list_of_words"
   ]
  },
  {
   "cell_type": "markdown",
   "metadata": {},
   "source": [
    "### Testing the classification"
   ]
  },
  {
   "cell_type": "code",
   "execution_count": 60,
   "metadata": {},
   "outputs": [],
   "source": [
    "test_x.reset_index(drop=True, inplace=True)"
   ]
  },
  {
   "cell_type": "code",
   "execution_count": 61,
   "metadata": {},
   "outputs": [
    {
     "name": "stdout",
     "output_type": "stream",
     "text": [
      "165 - 8\n"
     ]
    }
   ],
   "source": [
    "correct = 0\n",
    "incorrect = 0\n",
    "for i in range(0,test_x.shape[0]-200):\n",
    "    text = test_x.loc[i,\"Text_Clean\"]\n",
    "    prob = pd.DataFrame()\n",
    "    prob[\"Category\"] = prob_table[\"Category\"]\n",
    "    prob[\"prob\"] = prob_table['p_C']\n",
    "    for val in wt(text):\n",
    "        if val in prob_table.columns:\n",
    "            prob[\"prob\"] = prob[\"prob\"] * prob_table[val] * 1000\n",
    "        else:\n",
    "            prob[\"prob\"] = prob[\"prob\"] * 1\n",
    "    prob[\"probability\"] = prob[\"prob\"]/prob[\"prob\"].sum()\n",
    "    prob.sort_values(\"probability\",ascending = False, inplace=True)\n",
    "    if test_x.loc[i,'Category'] == prob.iloc[0,0]:\n",
    "        correct += 1\n",
    "    else:\n",
    "        incorrect +=1\n",
    "print(correct,\"-\",incorrect)"
   ]
  }
 ],
 "metadata": {
  "kernelspec": {
   "display_name": "Python 3",
   "language": "python",
   "name": "python3"
  },
  "language_info": {
   "codemirror_mode": {
    "name": "ipython",
    "version": 3
   },
   "file_extension": ".py",
   "mimetype": "text/x-python",
   "name": "python",
   "nbconvert_exporter": "python",
   "pygments_lexer": "ipython3",
   "version": "3.7.1"
  }
 },
 "nbformat": 4,
 "nbformat_minor": 2
}
