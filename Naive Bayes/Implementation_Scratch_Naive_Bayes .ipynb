{
 "cells": [
  {
   "cell_type": "markdown",
   "metadata": {},
   "source": [
    "# Naive Bayes Classifier - Implementation from scratch \n",
    "This notebook is an attempt to understand the mechanics of Naive Bayes Algorithm.\n",
    "It contains 4 section:\n",
    "- **Data Preparation** - Importing libraries and splitting the data in train test sets\n",
    "- **Detailed implementation** of Naive Bayes - Step by step explanation but no efficient\n",
    "- **Efficient implementation** of Naive Bayes - Focus on code efficiency\n",
    "- **Sklearn implementation** - Comparing results with previous implementations. The comparision is done by only looking at the **confusion metrics**"
   ]
  },
  {
   "cell_type": "markdown",
   "metadata": {},
   "source": [
    "# Importing Libraries & Data Preparation"
   ]
  },
  {
   "cell_type": "markdown",
   "metadata": {},
   "source": [
    "### Importing required libraries"
   ]
  },
  {
   "cell_type": "code",
   "execution_count": 57,
   "metadata": {},
   "outputs": [],
   "source": [
    "%matplotlib inline\n",
    "import pandas as pd\n",
    "import numpy as np\n",
    "from sklearn.feature_extraction.text import CountVectorizer\n",
    "from sklearn.model_selection import train_test_split\n",
    "from sklearn.naive_bayes import MultinomialNB\n",
    "from sklearn.preprocessing import LabelBinarizer\n",
    "import re\n",
    "from matplotlib import pyplot as plt"
   ]
  },
  {
   "cell_type": "markdown",
   "metadata": {},
   "source": [
    "### Importing the dataset\n",
    "- This dataset contains 3000 movie reviews from IMDB website. The response variable captures if the review is positive or negative.\n",
    "- The sample records of the dataset, and the category distribution is shown below."
   ]
  },
  {
   "cell_type": "code",
   "execution_count": 58,
   "metadata": {},
   "outputs": [
    {
     "data": {
      "text/html": [
       "<div>\n",
       "<style scoped>\n",
       "    .dataframe tbody tr th:only-of-type {\n",
       "        vertical-align: middle;\n",
       "    }\n",
       "\n",
       "    .dataframe tbody tr th {\n",
       "        vertical-align: top;\n",
       "    }\n",
       "\n",
       "    .dataframe thead th {\n",
       "        text-align: right;\n",
       "    }\n",
       "</style>\n",
       "<table border=\"1\" class=\"dataframe\">\n",
       "  <thead>\n",
       "    <tr style=\"text-align: right;\">\n",
       "      <th></th>\n",
       "      <th>review</th>\n",
       "      <th>sentiment</th>\n",
       "    </tr>\n",
       "  </thead>\n",
       "  <tbody>\n",
       "    <tr>\n",
       "      <th>0</th>\n",
       "      <td>One of the other reviewers has mentioned that ...</td>\n",
       "      <td>positive</td>\n",
       "    </tr>\n",
       "    <tr>\n",
       "      <th>1</th>\n",
       "      <td>A wonderful little production. &lt;br /&gt;&lt;br /&gt;The...</td>\n",
       "      <td>positive</td>\n",
       "    </tr>\n",
       "  </tbody>\n",
       "</table>\n",
       "</div>"
      ],
      "text/plain": [
       "                                              review sentiment\n",
       "0  One of the other reviewers has mentioned that ...  positive\n",
       "1  A wonderful little production. <br /><br />The...  positive"
      ]
     },
     "execution_count": 58,
     "metadata": {},
     "output_type": "execute_result"
    }
   ],
   "source": [
    "inp_dataset = pd.read_csv(\"IMDB Dataset_V1.csv\")\n",
    "inp_dataset.head(2)"
   ]
  },
  {
   "cell_type": "code",
   "execution_count": 59,
   "metadata": {},
   "outputs": [
    {
     "data": {
      "image/png": "[encoded data removed]",
      "text/plain": [
       "<Figure size 432x288 with 1 Axes>"
      ]
     },
     "metadata": {
      "needs_background": "light"
     },
     "output_type": "display_data"
    }
   ],
   "source": [
    "Cat_Count_df = inp_dataset.sentiment.value_counts().reset_index() \n",
    "Cat_Count_df[\"Percentage\"] = Cat_Count_df[\"sentiment\"]/Cat_Count_df[\"sentiment\"].sum()*100\n",
    "plt.bar(Cat_Count_df[\"index\"], Cat_Count_df[\"sentiment\"])\n",
    "plt.xticks(Cat_Count_df[\"index\"])\n",
    "plt.xlabel(\"Sentiment\")\n",
    "plt.ylabel(\"Count\")\n",
    "plt.title(\"Distribution - Movie Sentiment\")\n",
    "for ind,row in Cat_Count_df.iterrows():\n",
    "    plt.annotate(text=str(round(row[\"Percentage\"],1))+\"%\",xy = (row[\"index\"],row[\"sentiment\"]))\n",
    "\n",
    "plt.show()"
   ]
  },
  {
   "cell_type": "markdown",
   "metadata": {},
   "source": [
    "### Cleaning the articles to remove the unwanted characters\n",
    "- In this implementation, we are performing only basic data cleaning steps like removing numbers, punctuations and special characters and tags from text.\n",
    "- This is done using regular expressions in the function defined as **text_clean**.\n",
    "- Finally, we are splitting the data in to train and test set using *sklearn's function* **train_test_split**. The code is set to have 70% data in the training set."
   ]
  },
  {
   "cell_type": "code",
   "execution_count": 60,
   "metadata": {},
   "outputs": [],
   "source": [
    "def text_clean(text_series):\n",
    "    text_series = text_series.str.lower()\n",
    "    clean_2 = text_series.str.replace(r\"<.*>|[^a-zA-Z\\s]\",\"\")\n",
    "    clean_3 = clean_2.str.replace(r\"\\s+\", \" \")\n",
    "    return clean_3"
   ]
  },
  {
   "cell_type": "code",
   "execution_count": 61,
   "metadata": {},
   "outputs": [],
   "source": [
    "inp_dataset[\"Text_Clean\"] = text_clean(inp_dataset[\"review\"])"
   ]
  },
  {
   "cell_type": "code",
   "execution_count": 62,
   "metadata": {},
   "outputs": [],
   "source": [
    "train_x, test_x, train_y, test_y = train_test_split(inp_dataset[\"Text_Clean\"], \n",
    "                                                    inp_dataset[\"sentiment\"], \n",
    "                                                    test_size = 0.3, \n",
    "                                                    random_state = 8)"
   ]
  },
  {
   "cell_type": "markdown",
   "metadata": {},
   "source": [
    "# Detailed Implementation of Naive Bayes"
   ]
  },
  {
   "cell_type": "markdown",
   "metadata": {},
   "source": [
    "### Creating Bag of Words\n",
    "- In this step we are creating a dataframe which has the count frequency of each word in each document also called as **bag of Words**\n",
    "- This is done using *sklearn's* **CountVectorizer** function. The function provides us with an option to remove stop words. This is done by passing **the argument *stop_words* as \"english\"**.\n",
    "- The same CountVectorizer is also used for creating the count frequencies of Test dataset. Notice, while transforming test dataset we are using the method **transform** and **not fit_transform**. This is to ensure that the test data has the same dimensions as training dataset."
   ]
  },
  {
   "cell_type": "code",
   "execution_count": 63,
   "metadata": {},
   "outputs": [
    {
     "data": {
      "text/html": [
       "<div>\n",
       "<style scoped>\n",
       "    .dataframe tbody tr th:only-of-type {\n",
       "        vertical-align: middle;\n",
       "    }\n",
       "\n",
       "    .dataframe tbody tr th {\n",
       "        vertical-align: top;\n",
       "    }\n",
       "\n",
       "    .dataframe thead th {\n",
       "        text-align: right;\n",
       "    }\n",
       "</style>\n",
       "<table border=\"1\" class=\"dataframe\">\n",
       "  <thead>\n",
       "    <tr style=\"text-align: right;\">\n",
       "      <th></th>\n",
       "      <th>aaahthe</th>\n",
       "      <th>aaargh</th>\n",
       "      <th>aag</th>\n",
       "      <th>aaip</th>\n",
       "      <th>aamir</th>\n",
       "      <th>aardman</th>\n",
       "      <th>aaron</th>\n",
       "      <th>aawip</th>\n",
       "      <th>ab</th>\n",
       "      <th>abandon</th>\n",
       "      <th>...</th>\n",
       "      <th>zorro</th>\n",
       "      <th>zorros</th>\n",
       "      <th>zu</th>\n",
       "      <th>zucco</th>\n",
       "      <th>zucker</th>\n",
       "      <th>zudina</th>\n",
       "      <th>zues</th>\n",
       "      <th>zulu</th>\n",
       "      <th>zurich</th>\n",
       "      <th>zwart</th>\n",
       "    </tr>\n",
       "  </thead>\n",
       "  <tbody>\n",
       "    <tr>\n",
       "      <th>0</th>\n",
       "      <td>0</td>\n",
       "      <td>0</td>\n",
       "      <td>0</td>\n",
       "      <td>0</td>\n",
       "      <td>0</td>\n",
       "      <td>0</td>\n",
       "      <td>0</td>\n",
       "      <td>0</td>\n",
       "      <td>0</td>\n",
       "      <td>0</td>\n",
       "      <td>...</td>\n",
       "      <td>0</td>\n",
       "      <td>0</td>\n",
       "      <td>0</td>\n",
       "      <td>0</td>\n",
       "      <td>0</td>\n",
       "      <td>0</td>\n",
       "      <td>0</td>\n",
       "      <td>0</td>\n",
       "      <td>0</td>\n",
       "      <td>0</td>\n",
       "    </tr>\n",
       "    <tr>\n",
       "      <th>1</th>\n",
       "      <td>0</td>\n",
       "      <td>0</td>\n",
       "      <td>0</td>\n",
       "      <td>0</td>\n",
       "      <td>0</td>\n",
       "      <td>0</td>\n",
       "      <td>0</td>\n",
       "      <td>0</td>\n",
       "      <td>0</td>\n",
       "      <td>0</td>\n",
       "      <td>...</td>\n",
       "      <td>0</td>\n",
       "      <td>0</td>\n",
       "      <td>0</td>\n",
       "      <td>0</td>\n",
       "      <td>0</td>\n",
       "      <td>0</td>\n",
       "      <td>0</td>\n",
       "      <td>0</td>\n",
       "      <td>0</td>\n",
       "      <td>0</td>\n",
       "    </tr>\n",
       "    <tr>\n",
       "      <th>2</th>\n",
       "      <td>0</td>\n",
       "      <td>0</td>\n",
       "      <td>0</td>\n",
       "      <td>0</td>\n",
       "      <td>0</td>\n",
       "      <td>0</td>\n",
       "      <td>0</td>\n",
       "      <td>0</td>\n",
       "      <td>0</td>\n",
       "      <td>0</td>\n",
       "      <td>...</td>\n",
       "      <td>0</td>\n",
       "      <td>0</td>\n",
       "      <td>0</td>\n",
       "      <td>0</td>\n",
       "      <td>0</td>\n",
       "      <td>0</td>\n",
       "      <td>0</td>\n",
       "      <td>0</td>\n",
       "      <td>0</td>\n",
       "      <td>0</td>\n",
       "    </tr>\n",
       "    <tr>\n",
       "      <th>3</th>\n",
       "      <td>0</td>\n",
       "      <td>0</td>\n",
       "      <td>0</td>\n",
       "      <td>0</td>\n",
       "      <td>0</td>\n",
       "      <td>0</td>\n",
       "      <td>0</td>\n",
       "      <td>0</td>\n",
       "      <td>0</td>\n",
       "      <td>0</td>\n",
       "      <td>...</td>\n",
       "      <td>0</td>\n",
       "      <td>0</td>\n",
       "      <td>0</td>\n",
       "      <td>0</td>\n",
       "      <td>0</td>\n",
       "      <td>0</td>\n",
       "      <td>0</td>\n",
       "      <td>0</td>\n",
       "      <td>0</td>\n",
       "      <td>0</td>\n",
       "    </tr>\n",
       "  </tbody>\n",
       "</table>\n",
       "<p>4 rows × 22087 columns</p>\n",
       "</div>"
      ],
      "text/plain": [
       "   aaahthe  aaargh  aag  aaip  aamir  aardman  aaron  aawip  ab  abandon  ...  \\\n",
       "0        0       0    0     0      0        0      0      0   0        0  ...   \n",
       "1        0       0    0     0      0        0      0      0   0        0  ...   \n",
       "2        0       0    0     0      0        0      0      0   0        0  ...   \n",
       "3        0       0    0     0      0        0      0      0   0        0  ...   \n",
       "\n",
       "   zorro  zorros  zu  zucco  zucker  zudina  zues  zulu  zurich  zwart  \n",
       "0      0       0   0      0       0       0     0     0       0      0  \n",
       "1      0       0   0      0       0       0     0     0       0      0  \n",
       "2      0       0   0      0       0       0     0     0       0      0  \n",
       "3      0       0   0      0       0       0     0     0       0      0  \n",
       "\n",
       "[4 rows x 22087 columns]"
      ]
     },
     "execution_count": 63,
     "metadata": {},
     "output_type": "execute_result"
    }
   ],
   "source": [
    "Cnt_Vec = CountVectorizer(stop_words=\"english\")\n",
    "BOW_train = Cnt_Vec.fit_transform(train_x).toarray()\n",
    "BOW_train_Df = pd.DataFrame(BOW_train, columns=Cnt_Vec.get_feature_names())\n",
    "BOW_train_Df[:4]"
   ]
  },
  {
   "cell_type": "code",
   "execution_count": 64,
   "metadata": {},
   "outputs": [
    {
     "data": {
      "text/html": [
       "<div>\n",
       "<style scoped>\n",
       "    .dataframe tbody tr th:only-of-type {\n",
       "        vertical-align: middle;\n",
       "    }\n",
       "\n",
       "    .dataframe tbody tr th {\n",
       "        vertical-align: top;\n",
       "    }\n",
       "\n",
       "    .dataframe thead th {\n",
       "        text-align: right;\n",
       "    }\n",
       "</style>\n",
       "<table border=\"1\" class=\"dataframe\">\n",
       "  <thead>\n",
       "    <tr style=\"text-align: right;\">\n",
       "      <th></th>\n",
       "      <th>aaahthe</th>\n",
       "      <th>aaargh</th>\n",
       "      <th>aag</th>\n",
       "      <th>aaip</th>\n",
       "      <th>aamir</th>\n",
       "      <th>aardman</th>\n",
       "      <th>aaron</th>\n",
       "      <th>aawip</th>\n",
       "      <th>ab</th>\n",
       "      <th>abandon</th>\n",
       "      <th>...</th>\n",
       "      <th>zorro</th>\n",
       "      <th>zorros</th>\n",
       "      <th>zu</th>\n",
       "      <th>zucco</th>\n",
       "      <th>zucker</th>\n",
       "      <th>zudina</th>\n",
       "      <th>zues</th>\n",
       "      <th>zulu</th>\n",
       "      <th>zurich</th>\n",
       "      <th>zwart</th>\n",
       "    </tr>\n",
       "  </thead>\n",
       "  <tbody>\n",
       "    <tr>\n",
       "      <th>0</th>\n",
       "      <td>0</td>\n",
       "      <td>0</td>\n",
       "      <td>0</td>\n",
       "      <td>0</td>\n",
       "      <td>0</td>\n",
       "      <td>0</td>\n",
       "      <td>0</td>\n",
       "      <td>0</td>\n",
       "      <td>0</td>\n",
       "      <td>0</td>\n",
       "      <td>...</td>\n",
       "      <td>0</td>\n",
       "      <td>0</td>\n",
       "      <td>0</td>\n",
       "      <td>0</td>\n",
       "      <td>0</td>\n",
       "      <td>0</td>\n",
       "      <td>0</td>\n",
       "      <td>0</td>\n",
       "      <td>0</td>\n",
       "      <td>0</td>\n",
       "    </tr>\n",
       "    <tr>\n",
       "      <th>1</th>\n",
       "      <td>0</td>\n",
       "      <td>0</td>\n",
       "      <td>0</td>\n",
       "      <td>0</td>\n",
       "      <td>0</td>\n",
       "      <td>0</td>\n",
       "      <td>0</td>\n",
       "      <td>0</td>\n",
       "      <td>0</td>\n",
       "      <td>0</td>\n",
       "      <td>...</td>\n",
       "      <td>0</td>\n",
       "      <td>0</td>\n",
       "      <td>0</td>\n",
       "      <td>0</td>\n",
       "      <td>0</td>\n",
       "      <td>0</td>\n",
       "      <td>0</td>\n",
       "      <td>0</td>\n",
       "      <td>0</td>\n",
       "      <td>0</td>\n",
       "    </tr>\n",
       "    <tr>\n",
       "      <th>2</th>\n",
       "      <td>0</td>\n",
       "      <td>0</td>\n",
       "      <td>0</td>\n",
       "      <td>0</td>\n",
       "      <td>0</td>\n",
       "      <td>0</td>\n",
       "      <td>0</td>\n",
       "      <td>0</td>\n",
       "      <td>0</td>\n",
       "      <td>0</td>\n",
       "      <td>...</td>\n",
       "      <td>0</td>\n",
       "      <td>0</td>\n",
       "      <td>0</td>\n",
       "      <td>0</td>\n",
       "      <td>0</td>\n",
       "      <td>0</td>\n",
       "      <td>0</td>\n",
       "      <td>0</td>\n",
       "      <td>0</td>\n",
       "      <td>0</td>\n",
       "    </tr>\n",
       "    <tr>\n",
       "      <th>3</th>\n",
       "      <td>0</td>\n",
       "      <td>0</td>\n",
       "      <td>0</td>\n",
       "      <td>0</td>\n",
       "      <td>0</td>\n",
       "      <td>0</td>\n",
       "      <td>0</td>\n",
       "      <td>0</td>\n",
       "      <td>0</td>\n",
       "      <td>0</td>\n",
       "      <td>...</td>\n",
       "      <td>0</td>\n",
       "      <td>0</td>\n",
       "      <td>0</td>\n",
       "      <td>0</td>\n",
       "      <td>0</td>\n",
       "      <td>0</td>\n",
       "      <td>0</td>\n",
       "      <td>0</td>\n",
       "      <td>0</td>\n",
       "      <td>0</td>\n",
       "    </tr>\n",
       "  </tbody>\n",
       "</table>\n",
       "<p>4 rows × 22087 columns</p>\n",
       "</div>"
      ],
      "text/plain": [
       "   aaahthe  aaargh  aag  aaip  aamir  aardman  aaron  aawip  ab  abandon  ...  \\\n",
       "0        0       0    0     0      0        0      0      0   0        0  ...   \n",
       "1        0       0    0     0      0        0      0      0   0        0  ...   \n",
       "2        0       0    0     0      0        0      0      0   0        0  ...   \n",
       "3        0       0    0     0      0        0      0      0   0        0  ...   \n",
       "\n",
       "   zorro  zorros  zu  zucco  zucker  zudina  zues  zulu  zurich  zwart  \n",
       "0      0       0   0      0       0       0     0     0       0      0  \n",
       "1      0       0   0      0       0       0     0     0       0      0  \n",
       "2      0       0   0      0       0       0     0     0       0      0  \n",
       "3      0       0   0      0       0       0     0     0       0      0  \n",
       "\n",
       "[4 rows x 22087 columns]"
      ]
     },
     "execution_count": 64,
     "metadata": {},
     "output_type": "execute_result"
    }
   ],
   "source": [
    "BOW_test = Cnt_Vec.transform(test_x).toarray()\n",
    "BOW_test_Df = pd.DataFrame(BOW_test, columns=Cnt_Vec.get_feature_names())\n",
    "BOW_test_Df[:4]"
   ]
  },
  {
   "cell_type": "markdown",
   "metadata": {},
   "source": [
    "### Merging BOW data frames with respective Categories\n",
    "- To consolidate the word frequencies for each category, the review sentiment is added to the bag of words frequency tables.\n",
    "- Note that this is done just for explanation purposes. In the effecient implementation this step would not be required."
   ]
  },
  {
   "cell_type": "code",
   "execution_count": 65,
   "metadata": {},
   "outputs": [
    {
     "data": {
      "text/html": [
       "<div>\n",
       "<style scoped>\n",
       "    .dataframe tbody tr th:only-of-type {\n",
       "        vertical-align: middle;\n",
       "    }\n",
       "\n",
       "    .dataframe tbody tr th {\n",
       "        vertical-align: top;\n",
       "    }\n",
       "\n",
       "    .dataframe thead th {\n",
       "        text-align: right;\n",
       "    }\n",
       "</style>\n",
       "<table border=\"1\" class=\"dataframe\">\n",
       "  <thead>\n",
       "    <tr style=\"text-align: right;\">\n",
       "      <th></th>\n",
       "      <th>aaahthe</th>\n",
       "      <th>aaargh</th>\n",
       "      <th>aag</th>\n",
       "      <th>aaip</th>\n",
       "      <th>aamir</th>\n",
       "      <th>aardman</th>\n",
       "      <th>aaron</th>\n",
       "      <th>aawip</th>\n",
       "      <th>ab</th>\n",
       "      <th>abandon</th>\n",
       "      <th>...</th>\n",
       "      <th>zorros</th>\n",
       "      <th>zu</th>\n",
       "      <th>zucco</th>\n",
       "      <th>zucker</th>\n",
       "      <th>zudina</th>\n",
       "      <th>zues</th>\n",
       "      <th>zulu</th>\n",
       "      <th>zurich</th>\n",
       "      <th>zwart</th>\n",
       "      <th>Category_Values</th>\n",
       "    </tr>\n",
       "  </thead>\n",
       "  <tbody>\n",
       "    <tr>\n",
       "      <th>0</th>\n",
       "      <td>0</td>\n",
       "      <td>0</td>\n",
       "      <td>0</td>\n",
       "      <td>0</td>\n",
       "      <td>0</td>\n",
       "      <td>0</td>\n",
       "      <td>0</td>\n",
       "      <td>0</td>\n",
       "      <td>0</td>\n",
       "      <td>0</td>\n",
       "      <td>...</td>\n",
       "      <td>0</td>\n",
       "      <td>0</td>\n",
       "      <td>0</td>\n",
       "      <td>0</td>\n",
       "      <td>0</td>\n",
       "      <td>0</td>\n",
       "      <td>0</td>\n",
       "      <td>0</td>\n",
       "      <td>0</td>\n",
       "      <td>negative</td>\n",
       "    </tr>\n",
       "    <tr>\n",
       "      <th>1</th>\n",
       "      <td>0</td>\n",
       "      <td>0</td>\n",
       "      <td>0</td>\n",
       "      <td>0</td>\n",
       "      <td>0</td>\n",
       "      <td>0</td>\n",
       "      <td>0</td>\n",
       "      <td>0</td>\n",
       "      <td>0</td>\n",
       "      <td>0</td>\n",
       "      <td>...</td>\n",
       "      <td>0</td>\n",
       "      <td>0</td>\n",
       "      <td>0</td>\n",
       "      <td>0</td>\n",
       "      <td>0</td>\n",
       "      <td>0</td>\n",
       "      <td>0</td>\n",
       "      <td>0</td>\n",
       "      <td>0</td>\n",
       "      <td>positive</td>\n",
       "    </tr>\n",
       "    <tr>\n",
       "      <th>2</th>\n",
       "      <td>0</td>\n",
       "      <td>0</td>\n",
       "      <td>0</td>\n",
       "      <td>0</td>\n",
       "      <td>0</td>\n",
       "      <td>0</td>\n",
       "      <td>0</td>\n",
       "      <td>0</td>\n",
       "      <td>0</td>\n",
       "      <td>0</td>\n",
       "      <td>...</td>\n",
       "      <td>0</td>\n",
       "      <td>0</td>\n",
       "      <td>0</td>\n",
       "      <td>0</td>\n",
       "      <td>0</td>\n",
       "      <td>0</td>\n",
       "      <td>0</td>\n",
       "      <td>0</td>\n",
       "      <td>0</td>\n",
       "      <td>negative</td>\n",
       "    </tr>\n",
       "    <tr>\n",
       "      <th>3</th>\n",
       "      <td>0</td>\n",
       "      <td>0</td>\n",
       "      <td>0</td>\n",
       "      <td>0</td>\n",
       "      <td>0</td>\n",
       "      <td>0</td>\n",
       "      <td>0</td>\n",
       "      <td>0</td>\n",
       "      <td>0</td>\n",
       "      <td>0</td>\n",
       "      <td>...</td>\n",
       "      <td>0</td>\n",
       "      <td>0</td>\n",
       "      <td>0</td>\n",
       "      <td>0</td>\n",
       "      <td>0</td>\n",
       "      <td>0</td>\n",
       "      <td>0</td>\n",
       "      <td>0</td>\n",
       "      <td>0</td>\n",
       "      <td>positive</td>\n",
       "    </tr>\n",
       "    <tr>\n",
       "      <th>4</th>\n",
       "      <td>0</td>\n",
       "      <td>0</td>\n",
       "      <td>0</td>\n",
       "      <td>0</td>\n",
       "      <td>0</td>\n",
       "      <td>0</td>\n",
       "      <td>0</td>\n",
       "      <td>0</td>\n",
       "      <td>0</td>\n",
       "      <td>0</td>\n",
       "      <td>...</td>\n",
       "      <td>0</td>\n",
       "      <td>0</td>\n",
       "      <td>0</td>\n",
       "      <td>0</td>\n",
       "      <td>0</td>\n",
       "      <td>0</td>\n",
       "      <td>0</td>\n",
       "      <td>0</td>\n",
       "      <td>0</td>\n",
       "      <td>positive</td>\n",
       "    </tr>\n",
       "  </tbody>\n",
       "</table>\n",
       "<p>5 rows × 22088 columns</p>\n",
       "</div>"
      ],
      "text/plain": [
       "   aaahthe  aaargh  aag  aaip  aamir  aardman  aaron  aawip  ab  abandon  ...  \\\n",
       "0        0       0    0     0      0        0      0      0   0        0  ...   \n",
       "1        0       0    0     0      0        0      0      0   0        0  ...   \n",
       "2        0       0    0     0      0        0      0      0   0        0  ...   \n",
       "3        0       0    0     0      0        0      0      0   0        0  ...   \n",
       "4        0       0    0     0      0        0      0      0   0        0  ...   \n",
       "\n",
       "   zorros  zu  zucco  zucker  zudina  zues  zulu  zurich  zwart  \\\n",
       "0       0   0      0       0       0     0     0       0      0   \n",
       "1       0   0      0       0       0     0     0       0      0   \n",
       "2       0   0      0       0       0     0     0       0      0   \n",
       "3       0   0      0       0       0     0     0       0      0   \n",
       "4       0   0      0       0       0     0     0       0      0   \n",
       "\n",
       "   Category_Values  \n",
       "0         negative  \n",
       "1         positive  \n",
       "2         negative  \n",
       "3         positive  \n",
       "4         positive  \n",
       "\n",
       "[5 rows x 22088 columns]"
      ]
     },
     "execution_count": 65,
     "metadata": {},
     "output_type": "execute_result"
    }
   ],
   "source": [
    "BOW_train_Df[\"Category_Values\"] = train_y.reset_index()[\"sentiment\"]\n",
    "BOW_test_Df[\"Category_Values\"] = test_y.reset_index()[\"sentiment\"]\n",
    "BOW_train_Df.head(5)"
   ]
  },
  {
   "cell_type": "markdown",
   "metadata": {},
   "source": [
    "### Consolidating bag of words for each category\n",
    "- In this section we are grouping all the word frequencies on the basis of review sentiment. Another column containing the number of documents in each category is also added.\n",
    "- Further, for calculating the sum of all word counts in each category an additional column is added.\n",
    "- As mentioned earlier, all these steps are inefficient and added only for explanation purpose."
   ]
  },
  {
   "cell_type": "code",
   "execution_count": 66,
   "metadata": {},
   "outputs": [],
   "source": [
    "Cons_df = BOW_train_Df.groupby(\"Category_Values\",as_index = False).sum().reset_index(drop=True)\n",
    "Category_Count_df = BOW_train_Df[\"Category_Values\"].value_counts().reset_index()\n",
    "Category_Count_df.columns = [\"Category_Values\", \"Category_Count\"]\n",
    "Cons_df = pd.merge(Cons_df,Category_Count_df,on=\"Category_Values\",how = \"left\")\n",
    "Cons_df[\"sum_all_words\"] = Cons_df.drop([\"Category_Count\",\"Category_Values\"],axis = 1).sum(axis = 1)"
   ]
  },
  {
   "cell_type": "markdown",
   "metadata": {},
   "source": [
    "### Creating Probability Table\n",
    "- Using the consolidated table we created in the previous section, we will now calculate the probabilities of each word occuring in each sentiment category\n",
    "- Laplace smoothing is also built in to ensure that words with 0 frequency are taken care of. This table will be used to predict the category of the test documents"
   ]
  },
  {
   "cell_type": "code",
   "execution_count": 67,
   "metadata": {},
   "outputs": [],
   "source": [
    "alpha = 1\n",
    "prob_table = pd.DataFrame()\n",
    "prob_table[\"Category_Values\"] = Cons_df[\"Category_Values\"]\n",
    "prob_table[\"p_C\"] = Cons_df[\"Category_Count\"]/Cons_df[\"Category_Count\"].sum()\n",
    "cols = [col for col in Cons_df.columns if col not in [\"Category_Values\", \"Category_Count\", \"sum_all_words\"]]\n",
    "no_of_cols = len(cols)\n",
    "for col in cols:\n",
    "    prob_table[col] = np.log((Cons_df[col]+alpha)/(Cons_df[\"sum_all_words\"] + (alpha*no_of_cols)))\n",
    "prob_table[\"p_C\"] = np.log(prob_table[\"p_C\"])"
   ]
  },
  {
   "cell_type": "markdown",
   "metadata": {},
   "source": [
    "### Testing the model on test data\n",
    "- The probability table calculated in the previous section is utilized here to calculate the probability of each test document being a +ve or -ve review.\n",
    "- The confusion matrics is presented to check the accuracy of the model"
   ]
  },
  {
   "cell_type": "code",
   "execution_count": 68,
   "metadata": {},
   "outputs": [],
   "source": [
    "train_array = prob_table.drop([\"Category_Values\",\"p_C\",],axis = 1)\n",
    "train_array = np.array(train_array)\n",
    "predict_df = pd.DataFrame(np.dot(BOW_test,train_array.T) + np.array(prob_table[\"p_C\"]),columns=[\"negative\", \"positive\"])\n",
    "predict_df[\"final_category\"] = predict_df.idxmax(axis = 1)\n",
    "predict_df[\"Original_Cateogry\"] = BOW_test_Df[\"Category_Values\"]"
   ]
  },
  {
   "cell_type": "code",
   "execution_count": 69,
   "metadata": {},
   "outputs": [
    {
     "data": {
      "text/html": [
       "<div>\n",
       "<style scoped>\n",
       "    .dataframe tbody tr th:only-of-type {\n",
       "        vertical-align: middle;\n",
       "    }\n",
       "\n",
       "    .dataframe tbody tr th {\n",
       "        vertical-align: top;\n",
       "    }\n",
       "\n",
       "    .dataframe thead th {\n",
       "        text-align: right;\n",
       "    }\n",
       "</style>\n",
       "<table border=\"1\" class=\"dataframe\">\n",
       "  <thead>\n",
       "    <tr style=\"text-align: right;\">\n",
       "      <th>Original_Cateogry</th>\n",
       "      <th>negative</th>\n",
       "      <th>positive</th>\n",
       "    </tr>\n",
       "    <tr>\n",
       "      <th>final_category</th>\n",
       "      <th></th>\n",
       "      <th></th>\n",
       "    </tr>\n",
       "  </thead>\n",
       "  <tbody>\n",
       "    <tr>\n",
       "      <th>negative</th>\n",
       "      <td>365</td>\n",
       "      <td>105</td>\n",
       "    </tr>\n",
       "    <tr>\n",
       "      <th>positive</th>\n",
       "      <td>82</td>\n",
       "      <td>348</td>\n",
       "    </tr>\n",
       "  </tbody>\n",
       "</table>\n",
       "</div>"
      ],
      "text/plain": [
       "Original_Cateogry  negative  positive\n",
       "final_category                       \n",
       "negative                365       105\n",
       "positive                 82       348"
      ]
     },
     "execution_count": 69,
     "metadata": {},
     "output_type": "execute_result"
    }
   ],
   "source": [
    "pd.crosstab(predict_df[\"final_category\"], predict_df[\"Original_Cateogry\"] )"
   ]
  },
  {
   "cell_type": "markdown",
   "metadata": {},
   "source": [
    "# Efficient implementation of Naive Bayes"
   ]
  },
  {
   "cell_type": "markdown",
   "metadata": {},
   "source": [
    "### Defining Alpha"
   ]
  },
  {
   "cell_type": "code",
   "execution_count": 22,
   "metadata": {},
   "outputs": [],
   "source": [
    "alpha = 1"
   ]
  },
  {
   "cell_type": "markdown",
   "metadata": {},
   "source": [
    "### Creating Bag of words for both train and test set"
   ]
  },
  {
   "cell_type": "code",
   "execution_count": 7,
   "metadata": {},
   "outputs": [],
   "source": [
    "Cnt_Vec = CountVectorizer(stop_words=\"english\")\n",
    "BOW_train = Cnt_Vec.fit_transform(train_x).toarray()\n",
    "BOW_test = Cnt_Vec.transform(test_x).toarray()"
   ]
  },
  {
   "cell_type": "markdown",
   "metadata": {},
   "source": [
    "### Converting response variable to binary array for each review"
   ]
  },
  {
   "cell_type": "code",
   "execution_count": 31,
   "metadata": {},
   "outputs": [],
   "source": [
    "lbl = LabelBinarizer()\n",
    "train_Y = lbl.fit_transform(train_y)\n",
    "if train_Y.shape[1] == 1:\n",
    "    train_Y = np.concatenate([1 - train_Y, train_Y], axis=1)\n",
    "cat_count_arr = np.log(np.sum(train_Y,axis = 0)/np.sum(train_Y))\n",
    "classes = lbl.classes_"
   ]
  },
  {
   "cell_type": "markdown",
   "metadata": {},
   "source": [
    "### Grouping Bag of words for each response category"
   ]
  },
  {
   "cell_type": "code",
   "execution_count": 10,
   "metadata": {},
   "outputs": [],
   "source": [
    "consolidated_train_df = np.dot(np.transpose(train_Y),BOW_train)"
   ]
  },
  {
   "cell_type": "markdown",
   "metadata": {},
   "source": [
    "### Creating the probability table"
   ]
  },
  {
   "cell_type": "code",
   "execution_count": 46,
   "metadata": {},
   "outputs": [],
   "source": [
    "prob_table_numer = consolidated_train_df + alpha\n",
    "prob_table_denom = np.sum(prob_table_numer,axis=1)\n",
    "prob_table = np.log(prob_table_numer) - np.log(prob_table_denom.reshape(-1,1))"
   ]
  },
  {
   "cell_type": "markdown",
   "metadata": {},
   "source": [
    "### Predicting the review sentiment of test dataset "
   ]
  },
  {
   "cell_type": "code",
   "execution_count": 47,
   "metadata": {},
   "outputs": [],
   "source": [
    "predict_arr = classes[np.argmax(np.dot(BOW_test,np.transpose(prob_table))+cat_count_arr,axis=1)]"
   ]
  },
  {
   "cell_type": "markdown",
   "metadata": {},
   "source": [
    "### Confusion Metrics"
   ]
  },
  {
   "cell_type": "code",
   "execution_count": 70,
   "metadata": {},
   "outputs": [
    {
     "data": {
      "text/html": [
       "<div>\n",
       "<style scoped>\n",
       "    .dataframe tbody tr th:only-of-type {\n",
       "        vertical-align: middle;\n",
       "    }\n",
       "\n",
       "    .dataframe tbody tr th {\n",
       "        vertical-align: top;\n",
       "    }\n",
       "\n",
       "    .dataframe thead th {\n",
       "        text-align: right;\n",
       "    }\n",
       "</style>\n",
       "<table border=\"1\" class=\"dataframe\">\n",
       "  <thead>\n",
       "    <tr style=\"text-align: right;\">\n",
       "      <th>sentiment</th>\n",
       "      <th>negative</th>\n",
       "      <th>positive</th>\n",
       "    </tr>\n",
       "    <tr>\n",
       "      <th>row_0</th>\n",
       "      <th></th>\n",
       "      <th></th>\n",
       "    </tr>\n",
       "  </thead>\n",
       "  <tbody>\n",
       "    <tr>\n",
       "      <th>negative</th>\n",
       "      <td>365</td>\n",
       "      <td>105</td>\n",
       "    </tr>\n",
       "    <tr>\n",
       "      <th>positive</th>\n",
       "      <td>82</td>\n",
       "      <td>348</td>\n",
       "    </tr>\n",
       "  </tbody>\n",
       "</table>\n",
       "</div>"
      ],
      "text/plain": [
       "sentiment  negative  positive\n",
       "row_0                        \n",
       "negative        365       105\n",
       "positive         82       348"
      ]
     },
     "execution_count": 70,
     "metadata": {},
     "output_type": "execute_result"
    }
   ],
   "source": [
    "pd.crosstab(predict_arr, test_y)"
   ]
  },
  {
   "cell_type": "markdown",
   "metadata": {},
   "source": [
    "# Implementation using SKlearn"
   ]
  },
  {
   "cell_type": "markdown",
   "metadata": {},
   "source": [
    "### Training the model"
   ]
  },
  {
   "cell_type": "code",
   "execution_count": 71,
   "metadata": {},
   "outputs": [
    {
     "data": {
      "text/plain": [
       "MultinomialNB(alpha=1)"
      ]
     },
     "execution_count": 71,
     "metadata": {},
     "output_type": "execute_result"
    }
   ],
   "source": [
    "MNB_Model = MultinomialNB(alpha=1)\n",
    "MNB_Model.fit(BOW_train, train_y)"
   ]
  },
  {
   "cell_type": "markdown",
   "metadata": {},
   "source": [
    "### Predicting the review sentiment"
   ]
  },
  {
   "cell_type": "code",
   "execution_count": 72,
   "metadata": {},
   "outputs": [],
   "source": [
    "prediction = MNB_Model.predict(BOW_test)"
   ]
  },
  {
   "cell_type": "markdown",
   "metadata": {},
   "source": [
    "### Confusion Metrics"
   ]
  },
  {
   "cell_type": "code",
   "execution_count": 21,
   "metadata": {},
   "outputs": [
    {
     "data": {
      "text/html": [
       "<div>\n",
       "<style scoped>\n",
       "    .dataframe tbody tr th:only-of-type {\n",
       "        vertical-align: middle;\n",
       "    }\n",
       "\n",
       "    .dataframe tbody tr th {\n",
       "        vertical-align: top;\n",
       "    }\n",
       "\n",
       "    .dataframe thead th {\n",
       "        text-align: right;\n",
       "    }\n",
       "</style>\n",
       "<table border=\"1\" class=\"dataframe\">\n",
       "  <thead>\n",
       "    <tr style=\"text-align: right;\">\n",
       "      <th>sentiment</th>\n",
       "      <th>negative</th>\n",
       "      <th>positive</th>\n",
       "    </tr>\n",
       "    <tr>\n",
       "      <th>row_0</th>\n",
       "      <th></th>\n",
       "      <th></th>\n",
       "    </tr>\n",
       "  </thead>\n",
       "  <tbody>\n",
       "    <tr>\n",
       "      <th>negative</th>\n",
       "      <td>365</td>\n",
       "      <td>105</td>\n",
       "    </tr>\n",
       "    <tr>\n",
       "      <th>positive</th>\n",
       "      <td>82</td>\n",
       "      <td>348</td>\n",
       "    </tr>\n",
       "  </tbody>\n",
       "</table>\n",
       "</div>"
      ],
      "text/plain": [
       "sentiment  negative  positive\n",
       "row_0                        \n",
       "negative        365       105\n",
       "positive         82       348"
      ]
     },
     "execution_count": 21,
     "metadata": {},
     "output_type": "execute_result"
    }
   ],
   "source": [
    "pd.crosstab(prediction, test_y)"
   ]
  }
 ],
 "metadata": {
  "kernelspec": {
   "display_name": "Python 3",
   "language": "python",
   "name": "python3"
  },
  "language_info": {
   "codemirror_mode": {
    "name": "ipython",
    "version": 3
   },
   "file_extension": ".py",
   "mimetype": "text/x-python",
   "name": "python",
   "nbconvert_exporter": "python",
   "pygments_lexer": "ipython3",
   "version": "3.7.1"
  }
 },
 "nbformat": 4,
 "nbformat_minor": 2
}
